{
 "cells": [
  {
   "cell_type": "code",
   "execution_count": 1,
   "id": "0fc688c7",
   "metadata": {},
   "outputs": [],
   "source": [
    "import numpy as np # linear algebra\n",
    "import pandas as pd # data processing, CSV file I/O (e.g. pd.read_csv)\n",
    "from sklearn.model_selection import train_test_split"
   ]
  },
  {
   "cell_type": "code",
   "execution_count": 19,
   "id": "bcf21070",
   "metadata": {},
   "outputs": [],
   "source": [
    "train = pd.read_csv('toxic_train.csv.zip')\n",
    "test = pd.read_csv('toxic_test.csv.zip')\n",
    "test_labels = pd.read_csv('toxic_test_labels.csv.zip')\n",
    "submission = pd.read_csv('toxic_sample_submission.csv.zip')"
   ]
  },
  {
   "cell_type": "code",
   "execution_count": 41,
   "id": "72a5b726",
   "metadata": {},
   "outputs": [
    {
     "data": {
      "text/html": [
       "<div>\n",
       "<style scoped>\n",
       "    .dataframe tbody tr th:only-of-type {\n",
       "        vertical-align: middle;\n",
       "    }\n",
       "\n",
       "    .dataframe tbody tr th {\n",
       "        vertical-align: top;\n",
       "    }\n",
       "\n",
       "    .dataframe thead th {\n",
       "        text-align: right;\n",
       "    }\n",
       "</style>\n",
       "<table border=\"1\" class=\"dataframe\">\n",
       "  <thead>\n",
       "    <tr style=\"text-align: right;\">\n",
       "      <th></th>\n",
       "      <th>id</th>\n",
       "      <th>comment_text</th>\n",
       "      <th>toxic</th>\n",
       "      <th>severe_toxic</th>\n",
       "      <th>obscene</th>\n",
       "      <th>threat</th>\n",
       "      <th>insult</th>\n",
       "      <th>identity_hate</th>\n",
       "    </tr>\n",
       "  </thead>\n",
       "  <tbody>\n",
       "    <tr>\n",
       "      <th>19394</th>\n",
       "      <td>33346e9833575b63</td>\n",
       "      <td>Statement on Senate Passage of Immigration Ref...</td>\n",
       "      <td>0</td>\n",
       "      <td>0</td>\n",
       "      <td>0</td>\n",
       "      <td>0</td>\n",
       "      <td>0</td>\n",
       "      <td>0</td>\n",
       "    </tr>\n",
       "    <tr>\n",
       "      <th>11790</th>\n",
       "      <td>1f28836efffe7b3a</td>\n",
       "      <td>\" June 2007 (UTC)\\n\\n You know what I also fou...</td>\n",
       "      <td>0</td>\n",
       "      <td>0</td>\n",
       "      <td>0</td>\n",
       "      <td>0</td>\n",
       "      <td>0</td>\n",
       "      <td>0</td>\n",
       "    </tr>\n",
       "    <tr>\n",
       "      <th>127665</th>\n",
       "      <td>aad027e06369b922</td>\n",
       "      <td>\"\\nI'd hate to bring this up again, but this e...</td>\n",
       "      <td>0</td>\n",
       "      <td>0</td>\n",
       "      <td>0</td>\n",
       "      <td>0</td>\n",
       "      <td>0</td>\n",
       "      <td>0</td>\n",
       "    </tr>\n",
       "    <tr>\n",
       "      <th>82955</th>\n",
       "      <td>ddf597e49f046122</td>\n",
       "      <td>and hope action is taken on this view</td>\n",
       "      <td>0</td>\n",
       "      <td>0</td>\n",
       "      <td>0</td>\n",
       "      <td>0</td>\n",
       "      <td>0</td>\n",
       "      <td>0</td>\n",
       "    </tr>\n",
       "    <tr>\n",
       "      <th>114343</th>\n",
       "      <td>63942d562221da7f</td>\n",
       "      <td>\"\\n\\nSpeedy deletion of Shree Swami Abhiramdas...</td>\n",
       "      <td>0</td>\n",
       "      <td>0</td>\n",
       "      <td>0</td>\n",
       "      <td>0</td>\n",
       "      <td>0</td>\n",
       "      <td>0</td>\n",
       "    </tr>\n",
       "  </tbody>\n",
       "</table>\n",
       "</div>"
      ],
      "text/plain": [
       "                      id                                       comment_text  \\\n",
       "19394   33346e9833575b63  Statement on Senate Passage of Immigration Ref...   \n",
       "11790   1f28836efffe7b3a  \" June 2007 (UTC)\\n\\n You know what I also fou...   \n",
       "127665  aad027e06369b922  \"\\nI'd hate to bring this up again, but this e...   \n",
       "82955   ddf597e49f046122              and hope action is taken on this view   \n",
       "114343  63942d562221da7f  \"\\n\\nSpeedy deletion of Shree Swami Abhiramdas...   \n",
       "\n",
       "        toxic  severe_toxic  obscene  threat  insult  identity_hate  \n",
       "19394       0             0        0       0       0              0  \n",
       "11790       0             0        0       0       0              0  \n",
       "127665      0             0        0       0       0              0  \n",
       "82955       0             0        0       0       0              0  \n",
       "114343      0             0        0       0       0              0  "
      ]
     },
     "execution_count": 41,
     "metadata": {},
     "output_type": "execute_result"
    }
   ],
   "source": [
    "train.sample(5)"
   ]
  },
  {
   "cell_type": "code",
   "execution_count": 42,
   "id": "f13f0b63",
   "metadata": {},
   "outputs": [
    {
     "data": {
      "text/plain": [
       "(159571, 8)"
      ]
     },
     "execution_count": 42,
     "metadata": {},
     "output_type": "execute_result"
    }
   ],
   "source": [
    "train.shape"
   ]
  },
  {
   "cell_type": "code",
   "execution_count": 43,
   "id": "7bcf7990",
   "metadata": {},
   "outputs": [
    {
     "name": "stdout",
     "output_type": "stream",
     "text": [
      "(159571, 6)\n",
      "[[0 0 0 0 0 0]\n",
      " [0 0 0 0 0 0]\n",
      " [0 0 0 0 0 0]\n",
      " [0 0 0 0 0 0]\n",
      " [0 0 0 0 0 0]\n",
      " [0 0 0 0 0 0]\n",
      " [1 1 1 0 1 0]\n",
      " [0 0 0 0 0 0]\n",
      " [0 0 0 0 0 0]\n",
      " [0 0 0 0 0 0]]\n"
     ]
    }
   ],
   "source": [
    "# Defining model output\n",
    "list_classes = [\"toxic\", \"severe_toxic\", \"obscene\", \"threat\", \"insult\", \"identity_hate\"]\n",
    "y = train[list_classes].values\n",
    "print(y.shape)\n",
    "print(y[:10])"
   ]
  },
  {
   "cell_type": "code",
   "execution_count": 45,
   "id": "6a2aaee0",
   "metadata": {},
   "outputs": [
    {
     "name": "stdout",
     "output_type": "stream",
     "text": [
      "Share of toxic comments: 0.10167887648758234\n"
     ]
    }
   ],
   "source": [
    "# Unbalanced data\n",
    "toxic_ratio = (y.sum(axis = 1) > 0).sum()/y.shape[0]\n",
    "print('Share of toxic comments:', toxic_ratio)"
   ]
  },
  {
   "cell_type": "code",
   "execution_count": 48,
   "id": "484883fc",
   "metadata": {},
   "outputs": [
    {
     "name": "stdout",
     "output_type": "stream",
     "text": [
      "toxic            15294\n",
      "severe_toxic      1595\n",
      "obscene           8449\n",
      "threat             478\n",
      "insult            7877\n",
      "identity_hate     1405\n",
      "dtype: int64\n",
      "\n",
      "toxic            0.095844\n",
      "severe_toxic     0.009996\n",
      "obscene          0.052948\n",
      "threat           0.002996\n",
      "insult           0.049364\n",
      "identity_hate    0.008805\n",
      "dtype: float64\n"
     ]
    }
   ],
   "source": [
    "print(train[list_classes].sum())\n",
    "print()\n",
    "print(train[list_classes].sum()/y.shape[0])"
   ]
  },
  {
   "cell_type": "code",
   "execution_count": 50,
   "id": "7f4e48c1",
   "metadata": {},
   "outputs": [
    {
     "name": "stdout",
     "output_type": "stream",
     "text": [
      "Is severe_toxic but not toxic: 0\n",
      "Is obscene but not toxic: 523\n",
      "Is threat but not toxic: 29\n",
      "Is insult but not toxic: 533\n",
      "Is identity_hate but not toxic: 103\n"
     ]
    }
   ],
   "source": [
    "# Multilabel\n",
    "for cl in list_classes[1:]:\n",
    "    N = ((train['toxic'] == 0) & (train[cl] == 1)).sum()\n",
    "    print(f'Is {cl} but not toxic:', N)"
   ]
  },
  {
   "cell_type": "code",
   "execution_count": 51,
   "id": "b6ae1b8b",
   "metadata": {},
   "outputs": [
    {
     "data": {
      "text/plain": [
       "0.9633412921729722"
      ]
     },
     "execution_count": 51,
     "metadata": {},
     "output_type": "execute_result"
    }
   ],
   "source": [
    "# Baseline (assuming not toxic)\n",
    "1-(train[list_classes].sum().values/len(train)).mean()"
   ]
  },
  {
   "cell_type": "code",
   "execution_count": 52,
   "id": "704bb501",
   "metadata": {},
   "outputs": [
    {
     "data": {
      "text/plain": [
       "0.9633412921729722"
      ]
     },
     "execution_count": 52,
     "metadata": {},
     "output_type": "execute_result"
    }
   ],
   "source": [
    "((y == np.zeros_like(y)).sum(axis=0)/len(y)).mean()"
   ]
  },
  {
   "cell_type": "code",
   "execution_count": 53,
   "id": "8171049e",
   "metadata": {},
   "outputs": [
    {
     "data": {
      "text/plain": [
       "array([0.09584448, 0.00999555, 0.05294822, 0.00299553, 0.04936361,\n",
       "       0.00880486])"
      ]
     },
     "execution_count": 53,
     "metadata": {},
     "output_type": "execute_result"
    }
   ],
   "source": [
    "train[list_classes].sum().values/len(train)"
   ]
  },
  {
   "cell_type": "code",
   "execution_count": null,
   "id": "6fbad8bb",
   "metadata": {},
   "outputs": [],
   "source": []
  }
 ],
 "metadata": {
  "kernelspec": {
   "display_name": "conda_python3",
   "language": "python",
   "name": "conda_python3"
  },
  "language_info": {
   "codemirror_mode": {
    "name": "ipython",
    "version": 3
   },
   "file_extension": ".py",
   "mimetype": "text/x-python",
   "name": "python",
   "nbconvert_exporter": "python",
   "pygments_lexer": "ipython3",
   "version": "3.6.13"
  }
 },
 "nbformat": 4,
 "nbformat_minor": 5
}
